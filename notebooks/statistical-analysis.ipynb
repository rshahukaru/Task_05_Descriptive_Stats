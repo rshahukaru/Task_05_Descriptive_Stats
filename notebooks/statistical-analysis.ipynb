{
 "cells": [
  {
   "cell_type": "code",
   "execution_count": 1,
   "id": "5e65a719",
   "metadata": {},
   "outputs": [],
   "source": [
    "import pandas as pd\n",
    "df = pd.read_csv(\"../data/wlax_2024_players.csv\")"
   ]
  },
  {
   "cell_type": "code",
   "execution_count": 2,
   "id": "47598919",
   "metadata": {},
   "outputs": [],
   "source": [
    "# make sure the name column is called 'player'\n",
    "name = next((c for c in df.columns if str(c).lower() in [\"player\",\"name\"]), None)\n",
    "if name and name != \"player\": df = df.rename(columns={name:\"player\"})"
   ]
  },
  {
   "cell_type": "code",
   "execution_count": 3,
   "id": "4018f8d6",
   "metadata": {},
   "outputs": [],
   "source": [
    "# tiny derived metrics (only if columns exist)\n",
    "if {\"pts\",\"gp\"}.issubset(df.columns): df[\"pts_pg\"]   = df[\"pts\"]/df[\"gp\"].clip(lower=1)\n",
    "if {\"g\",\"sh\"}.issubset(df.columns):  df[\"shot_pct\"] = df[\"g\"]/df[\"sh\"]"
   ]
  },
  {
   "cell_type": "code",
   "execution_count": 4,
   "id": "b3b8b141",
   "metadata": {},
   "outputs": [
    {
     "data": {
      "text/plain": [
       "(None,\n",
       " None,\n",
       "              player  shot_pct\n",
       " 17   Clark, Superia  1.000000\n",
       " 10     Rode, Meghan  0.727273\n",
       " 1   Adamson, Olivia  0.532110\n",
       " 0     Tyrrell, Emma  0.518519\n",
       " 2        Ward, Emma  0.488889)"
      ]
     },
     "execution_count": 4,
     "metadata": {},
     "output_type": "execute_result"
    }
   ],
   "source": [
    "# minimal “ground truth” you’ll compare against\n",
    "basic   = df[[\"g\",\"a\",\"pts\"]].describe().round(2) if {\"g\",\"a\",\"pts\"}.issubset(df.columns) else None\n",
    "top_pts = df.sort_values(\"pts_pg\", ascending=False)[[\"player\",\"pts_pg\"]].head(5) if \"pts_pg\" in df else None\n",
    "top_shp = df.sort_values(\"shot_pct\", ascending=False)[[\"player\",\"shot_pct\"]].head(5) if \"shot_pct\" in df else None\n",
    "\n",
    "basic, top_pts, top_shp"
   ]
  },
  {
   "cell_type": "code",
   "execution_count": null,
   "id": "757150dd",
   "metadata": {},
   "outputs": [],
   "source": []
  }
 ],
 "metadata": {
  "kernelspec": {
   "display_name": "base",
   "language": "python",
   "name": "python3"
  },
  "language_info": {
   "codemirror_mode": {
    "name": "ipython",
    "version": 3
   },
   "file_extension": ".py",
   "mimetype": "text/x-python",
   "name": "python",
   "nbconvert_exporter": "python",
   "pygments_lexer": "ipython3",
   "version": "3.12.4"
  }
 },
 "nbformat": 4,
 "nbformat_minor": 5
}
